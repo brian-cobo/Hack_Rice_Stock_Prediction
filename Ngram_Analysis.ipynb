{
 "cells": [
  {
   "cell_type": "code",
   "execution_count": 2,
   "metadata": {
    "pycharm": {
     "is_executing": false
    }
   },
   "outputs": [
    {
     "ename": "ModuleNotFoundError",
     "evalue": "No module named 'nltk'",
     "output_type": "error",
     "traceback": [
      "\u001b[0;31m---------------------------------------------------------------------------\u001b[0m",
      "\u001b[0;31mModuleNotFoundError\u001b[0m                       Traceback (most recent call last)",
      "\u001b[0;32m<ipython-input-2-d9e8bca788ab>\u001b[0m in \u001b[0;36m<module>\u001b[0;34m\u001b[0m\n\u001b[0;32m----> 1\u001b[0;31m \u001b[0;32mimport\u001b[0m \u001b[0mnltk\u001b[0m\u001b[0;34m\u001b[0m\u001b[0;34m\u001b[0m\u001b[0m\n\u001b[0m\u001b[1;32m      2\u001b[0m \u001b[0;32mimport\u001b[0m \u001b[0mos\u001b[0m\u001b[0;34m\u001b[0m\u001b[0;34m\u001b[0m\u001b[0m\n\u001b[1;32m      3\u001b[0m \u001b[0;32mimport\u001b[0m \u001b[0mpandas\u001b[0m \u001b[0;32mas\u001b[0m \u001b[0mpd\u001b[0m\u001b[0;34m\u001b[0m\u001b[0;34m\u001b[0m\u001b[0m\n\u001b[1;32m      4\u001b[0m \u001b[0;34m\u001b[0m\u001b[0m\n\u001b[1;32m      5\u001b[0m \u001b[0;32mfrom\u001b[0m \u001b[0mnltk\u001b[0m\u001b[0;34m.\u001b[0m\u001b[0mprobability\u001b[0m \u001b[0;32mimport\u001b[0m \u001b[0mFreqDist\u001b[0m\u001b[0;34m\u001b[0m\u001b[0;34m\u001b[0m\u001b[0m\n",
      "\u001b[0;31mModuleNotFoundError\u001b[0m: No module named 'nltk'"
     ]
    }
   ],
   "source": [
    "import nltk\n",
    "import os\n",
    "import pandas as pd\n",
    "\n",
    "from nltk.probability import FreqDist\n",
    "from nltk.corpus import stopwords\n",
    "from nltk.stem import PorterStemmer\n",
    "from nltk.tokenize import sent_tokenize, word_tokenize\n",
    "from nltk.stem.wordnet import WordNetLemmatizer\n",
    "from sklearn.feature_extraction.text import TfidfTransformer"
   ]
  },
  {
   "cell_type": "code",
   "execution_count": 2,
   "metadata": {},
   "outputs": [
    {
     "data": {
      "text/html": [
       "<div>\n",
       "<style scoped>\n",
       "    .dataframe tbody tr th:only-of-type {\n",
       "        vertical-align: middle;\n",
       "    }\n",
       "\n",
       "    .dataframe tbody tr th {\n",
       "        vertical-align: top;\n",
       "    }\n",
       "\n",
       "    .dataframe thead th {\n",
       "        text-align: right;\n",
       "    }\n",
       "</style>\n",
       "<table border=\"1\" class=\"dataframe\">\n",
       "  <thead>\n",
       "    <tr style=\"text-align: right;\">\n",
       "      <th></th>\n",
       "      <th>URL</th>\n",
       "      <th>Title</th>\n",
       "      <th>Author</th>\n",
       "      <th>Date_Published</th>\n",
       "      <th>Time_Published</th>\n",
       "      <th>Article</th>\n",
       "    </tr>\n",
       "  </thead>\n",
       "  <tbody>\n",
       "    <tr>\n",
       "      <td>0</td>\n",
       "      <td>https://www.ibtimes.com/tesla-news-can-model-3...</td>\n",
       "      <td>Tesla News: Can Model 3 Deliveries Keep Rising?</td>\n",
       "      <td>Daniel Sparks</td>\n",
       "      <td>06/29/19</td>\n",
       "      <td>1:11 AM</td>\n",
       "      <td>[\"Next week,\\xa0Tesla\\xa0(NASDAQ:TSLA) investo...</td>\n",
       "    </tr>\n",
       "    <tr>\n",
       "      <td>1</td>\n",
       "      <td>https://www.ibtimes.com/how-elon-musk-will-cel...</td>\n",
       "      <td>This Is How Elon Musk Will Celebrate His 48th ...</td>\n",
       "      <td>Dawn Geske</td>\n",
       "      <td>06/28/19</td>\n",
       "      <td>12:09 PM</td>\n",
       "      <td>['As Elon Musk celebrates his 48th birthday on...</td>\n",
       "    </tr>\n",
       "    <tr>\n",
       "      <td>2</td>\n",
       "      <td>https://www.ibtimes.com/spacex-ceo-elon-musk-m...</td>\n",
       "      <td>SpaceX CEO Elon Musk Mocked For Tweet Mixing U...</td>\n",
       "      <td>Wesley Dockery</td>\n",
       "      <td>06/24/19</td>\n",
       "      <td>1:36 PM</td>\n",
       "      <td>['Tesla (TSLA) and SpaceX CEO Elon Musk was sl...</td>\n",
       "    </tr>\n",
       "    <tr>\n",
       "      <td>3</td>\n",
       "      <td>https://www.ibtimes.com/tesla-news-ceo-elon-mu...</td>\n",
       "      <td>Tesla News: CEO Elon Musk Said He Deleted His ...</td>\n",
       "      <td>Wesley Dockery</td>\n",
       "      <td>06/17/19</td>\n",
       "      <td>12:19 PM</td>\n",
       "      <td>['Tesla (TSLA) CEO Elon Musk on Monday morning...</td>\n",
       "    </tr>\n",
       "    <tr>\n",
       "      <td>4</td>\n",
       "      <td>https://www.ibtimes.com/where-will-tesla-be-1-...</td>\n",
       "      <td>Where Will Tesla Be In 1 Year?</td>\n",
       "      <td>John Bromels</td>\n",
       "      <td>06/16/19</td>\n",
       "      <td>10:14 PM</td>\n",
       "      <td>['To hear\\xa0Tesla\\xa0(NASDAQ:TSLA)\\xa0CEO Elo...</td>\n",
       "    </tr>\n",
       "  </tbody>\n",
       "</table>\n",
       "</div>"
      ],
      "text/plain": [
       "                                                 URL  \\\n",
       "0  https://www.ibtimes.com/tesla-news-can-model-3...   \n",
       "1  https://www.ibtimes.com/how-elon-musk-will-cel...   \n",
       "2  https://www.ibtimes.com/spacex-ceo-elon-musk-m...   \n",
       "3  https://www.ibtimes.com/tesla-news-ceo-elon-mu...   \n",
       "4  https://www.ibtimes.com/where-will-tesla-be-1-...   \n",
       "\n",
       "                                               Title          Author  \\\n",
       "0    Tesla News: Can Model 3 Deliveries Keep Rising?   Daniel Sparks   \n",
       "1  This Is How Elon Musk Will Celebrate His 48th ...      Dawn Geske   \n",
       "2  SpaceX CEO Elon Musk Mocked For Tweet Mixing U...  Wesley Dockery   \n",
       "3  Tesla News: CEO Elon Musk Said He Deleted His ...  Wesley Dockery   \n",
       "4                     Where Will Tesla Be In 1 Year?    John Bromels   \n",
       "\n",
       "  Date_Published Time_Published  \\\n",
       "0       06/29/19        1:11 AM   \n",
       "1       06/28/19       12:09 PM   \n",
       "2       06/24/19        1:36 PM   \n",
       "3       06/17/19       12:19 PM   \n",
       "4       06/16/19       10:14 PM   \n",
       "\n",
       "                                             Article  \n",
       "0  [\"Next week,\\xa0Tesla\\xa0(NASDAQ:TSLA) investo...  \n",
       "1  ['As Elon Musk celebrates his 48th birthday on...  \n",
       "2  ['Tesla (TSLA) and SpaceX CEO Elon Musk was sl...  \n",
       "3  ['Tesla (TSLA) CEO Elon Musk on Monday morning...  \n",
       "4  ['To hear\\xa0Tesla\\xa0(NASDAQ:TSLA)\\xa0CEO Elo...  "
      ]
     },
     "execution_count": 2,
     "metadata": {},
     "output_type": "execute_result"
    }
   ],
   "source": [
    "articlePath = (os.getcwd() + '/Articles/Article_Info.csv')\n",
    "articles = pd.read_csv(articlePath)\n",
    "articles.head()"
   ]
  },
  {
   "cell_type": "code",
   "execution_count": 3,
   "metadata": {},
   "outputs": [],
   "source": [
    "articles['Date_Published']= pd.to_datetime(articles['Date_Published'])\n",
    "articles = articles.sort_values(by='Date_Published') "
   ]
  },
  {
   "cell_type": "code",
   "execution_count": 4,
   "metadata": {},
   "outputs": [
    {
     "name": "stdout",
     "output_type": "stream",
     "text": [
      "<class 'pandas.core.frame.DataFrame'>\n",
      "Int64Index: 567 entries, 566 to 0\n",
      "Data columns (total 6 columns):\n",
      "URL               567 non-null object\n",
      "Title             567 non-null object\n",
      "Author            567 non-null object\n",
      "Date_Published    567 non-null datetime64[ns]\n",
      "Time_Published    567 non-null object\n",
      "Article           567 non-null object\n",
      "dtypes: datetime64[ns](1), object(5)\n",
      "memory usage: 31.0+ KB\n"
     ]
    }
   ],
   "source": [
    "articles.info()"
   ]
  },
  {
   "cell_type": "code",
   "execution_count": 5,
   "metadata": {},
   "outputs": [
    {
     "data": {
      "text/html": [
       "<div>\n",
       "<style scoped>\n",
       "    .dataframe tbody tr th:only-of-type {\n",
       "        vertical-align: middle;\n",
       "    }\n",
       "\n",
       "    .dataframe tbody tr th {\n",
       "        vertical-align: top;\n",
       "    }\n",
       "\n",
       "    .dataframe thead th {\n",
       "        text-align: right;\n",
       "    }\n",
       "</style>\n",
       "<table border=\"1\" class=\"dataframe\">\n",
       "  <thead>\n",
       "    <tr style=\"text-align: right;\">\n",
       "      <th></th>\n",
       "      <th>URL</th>\n",
       "      <th>Title</th>\n",
       "      <th>Author</th>\n",
       "      <th>Date_Published</th>\n",
       "      <th>Time_Published</th>\n",
       "      <th>Article</th>\n",
       "    </tr>\n",
       "  </thead>\n",
       "  <tbody>\n",
       "    <tr>\n",
       "      <td>566</td>\n",
       "      <td>https://www.ibtimes.com/tesla-raise-185-millio...</td>\n",
       "      <td>Tesla to raise $185 million from IPO, private ...</td>\n",
       "      <td>IBT Staff Reporter</td>\n",
       "      <td>2010-06-16</td>\n",
       "      <td>2:47 AM</td>\n",
       "      <td>[\"The company said the IPO of 11.1 million sha...</td>\n",
       "    </tr>\n",
       "    <tr>\n",
       "      <td>565</td>\n",
       "      <td>https://www.ibtimes.com/tesla-increases-size-i...</td>\n",
       "      <td>Tesla increases size of IPO by 20 percent</td>\n",
       "      <td>IBT Staff Reporter</td>\n",
       "      <td>2010-06-28</td>\n",
       "      <td>2:56 PM</td>\n",
       "      <td>[\"Electric carmaker Tesla Motors raised the nu...</td>\n",
       "    </tr>\n",
       "    <tr>\n",
       "      <td>564</td>\n",
       "      <td>https://www.ibtimes.com/top-pre-market-nasdaq-...</td>\n",
       "      <td>Top Pre-Market NASDAQ Gainers (MGIC, TSLA, DEC...</td>\n",
       "      <td>Balasubramanyam Seshan</td>\n",
       "      <td>2010-11-24</td>\n",
       "      <td>1:55 PM</td>\n",
       "      <td>['The top pre-market NASDAQ stock market gaine...</td>\n",
       "    </tr>\n",
       "    <tr>\n",
       "      <td>563</td>\n",
       "      <td>https://www.ibtimes.com/top-pre-market-nasdaq-...</td>\n",
       "      <td>Top Pre-Market NASDAQ Losers (SBAY, ONTY, ASEI...</td>\n",
       "      <td>Balasubramanyam Seshan</td>\n",
       "      <td>2010-12-23</td>\n",
       "      <td>2:03 PM</td>\n",
       "      <td>[\"The top pre-market NASDAQ stock market loser...</td>\n",
       "    </tr>\n",
       "    <tr>\n",
       "      <td>561</td>\n",
       "      <td>https://www.ibtimes.com/top-pre-market-nasdaq-...</td>\n",
       "      <td>Top Pre-Market NASDAQ Gainers (SNTS, MNKD, LOG...</td>\n",
       "      <td>Balasubramanyam Seshan</td>\n",
       "      <td>2010-12-28</td>\n",
       "      <td>1:23 PM</td>\n",
       "      <td>['The top pre-market NASDAQ stock market gaine...</td>\n",
       "    </tr>\n",
       "  </tbody>\n",
       "</table>\n",
       "</div>"
      ],
      "text/plain": [
       "                                                   URL  \\\n",
       "566  https://www.ibtimes.com/tesla-raise-185-millio...   \n",
       "565  https://www.ibtimes.com/tesla-increases-size-i...   \n",
       "564  https://www.ibtimes.com/top-pre-market-nasdaq-...   \n",
       "563  https://www.ibtimes.com/top-pre-market-nasdaq-...   \n",
       "561  https://www.ibtimes.com/top-pre-market-nasdaq-...   \n",
       "\n",
       "                                                 Title  \\\n",
       "566  Tesla to raise $185 million from IPO, private ...   \n",
       "565          Tesla increases size of IPO by 20 percent   \n",
       "564  Top Pre-Market NASDAQ Gainers (MGIC, TSLA, DEC...   \n",
       "563  Top Pre-Market NASDAQ Losers (SBAY, ONTY, ASEI...   \n",
       "561  Top Pre-Market NASDAQ Gainers (SNTS, MNKD, LOG...   \n",
       "\n",
       "                     Author Date_Published Time_Published  \\\n",
       "566      IBT Staff Reporter     2010-06-16        2:47 AM   \n",
       "565      IBT Staff Reporter     2010-06-28        2:56 PM   \n",
       "564  Balasubramanyam Seshan     2010-11-24        1:55 PM   \n",
       "563  Balasubramanyam Seshan     2010-12-23        2:03 PM   \n",
       "561  Balasubramanyam Seshan     2010-12-28        1:23 PM   \n",
       "\n",
       "                                               Article  \n",
       "566  [\"The company said the IPO of 11.1 million sha...  \n",
       "565  [\"Electric carmaker Tesla Motors raised the nu...  \n",
       "564  ['The top pre-market NASDAQ stock market gaine...  \n",
       "563  [\"The top pre-market NASDAQ stock market loser...  \n",
       "561  ['The top pre-market NASDAQ stock market gaine...  "
      ]
     },
     "execution_count": 5,
     "metadata": {},
     "output_type": "execute_result"
    }
   ],
   "source": [
    "articles.head()"
   ]
  },
  {
   "cell_type": "code",
   "execution_count": 12,
   "metadata": {},
   "outputs": [
    {
     "name": "stdout",
     "output_type": "stream",
     "text": [
      "<class 'str'>\n"
     ]
    }
   ],
   "source": [
    "for i in range(len(articles)):\n",
    "    written_article = articles.iloc[i].Article\n",
    "    print(type(written_article))\n",
    "    \n",
    "    break"
   ]
  },
  {
   "cell_type": "code",
   "execution_count": null,
   "metadata": {},
   "outputs": [],
   "source": []
  }
 ],
 "metadata": {
  "kernelspec": {
   "display_name": "Python 3",
   "language": "python",
   "name": "python3"
  },
  "language_info": {
   "codemirror_mode": {
    "name": "ipython",
    "version": 3
   },
   "file_extension": ".py",
   "mimetype": "text/x-python",
   "name": "python",
   "nbconvert_exporter": "python",
   "pygments_lexer": "ipython3",
   "version": "3.7.2"
  }
 },
 "nbformat": 4,
 "nbformat_minor": 1
}
