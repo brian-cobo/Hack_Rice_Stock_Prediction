{
 "cells": [
  {
   "cell_type": "markdown",
   "metadata": {
    "slideshow": {
     "slide_type": "slide"
    }
   },
   "source": [
    " ### Can you enhance a Stochastic Oscillator to accurately predict stock movement?\n",
    " * Brian Cobo\n",
    " * Hunter Newton\n",
    " * Lim Nguyen"
   ]
  },
  {
   "cell_type": "markdown",
   "metadata": {
    "slideshow": {
     "slide_type": "slide"
    }
   },
   "source": [
    "## What Is A Stochastic Oscillator?\n",
    "A stochastic oscillator is a momentum indicator comparing a particular closing price of a security to a range of its prices over a certain period of time. The sensitivity of the oscillator to market movements is reducible by adjusting that time period or by taking a moving average of the result. It is used to generate overbought and oversold trading signals, utilizing a 0-100 bounded range of values.\n",
    "<img src= \"Sample_SO.png\" width = \"600\">\n",
    "When the oscillator moves above the 80 threshold, or below the 20 threshold, it can be considered overbought or oversold and is likely to move in the opposite."
   ]
  },
  {
   "cell_type": "markdown",
   "metadata": {
    "slideshow": {
     "slide_type": "slide"
    }
   },
   "source": [
    "### The Issue\n",
    "Stochastic Oscillators by themselves aren't considered accurate and should not be used by themselves because its not a predictor of future stock movement as demonstrated below. \n",
    "<img src = \"StochOscTradingInitial.png\">\n",
    "However, it does follow a general pattern of when crossing the thresholds, it may move directions. The problem is that stocks in nature are very versatile."
   ]
  },
  {
   "cell_type": "markdown",
   "metadata": {
    "slideshow": {
     "slide_type": "slide"
    }
   },
   "source": [
    "### A Solution?\n",
    "While trading TSLA stocks with a stochastic Oscillator did end up to a positive return, the majority of the time was spent in the holes and the returns are extremely small. \n",
    "So what if we analyzed the volumes of the stock as well as the signals produced by the oscillator? If the oscillator is saying that today is a good time to long or short a stock, and the volume is abnormally high, it makes sense that the extra volume will give the prices the push it needs in the direction implied."
   ]
  },
  {
   "cell_type": "markdown",
   "metadata": {
    "slideshow": {
     "slide_type": "slide"
    }
   },
   "source": [
    "<img src= \"Close v Volume.png\" width=\"700\">\n",
    "The graph above shows the average Volume and the Closing price over time. The Closing price seems to be following the Volume closely. When the volume skyrocks an extra ~7 Million trades between 2012 and 2013, the Closing price increases ~$200, and continues to follow the general movement of Volume. We believe this is because volume drives trade and the stochastic oscillator may tell us the direction."
   ]
  },
  {
   "cell_type": "code",
   "execution_count": 273,
   "metadata": {},
   "outputs": [
    {
     "data": {
      "text/html": [
       "<div>\n",
       "<style scoped>\n",
       "    .dataframe tbody tr th:only-of-type {\n",
       "        vertical-align: middle;\n",
       "    }\n",
       "\n",
       "    .dataframe tbody tr th {\n",
       "        vertical-align: top;\n",
       "    }\n",
       "\n",
       "    .dataframe thead th {\n",
       "        text-align: right;\n",
       "    }\n",
       "</style>\n",
       "<table border=\"1\" class=\"dataframe\">\n",
       "  <thead>\n",
       "    <tr style=\"text-align: right;\">\n",
       "      <th></th>\n",
       "      <th>Open</th>\n",
       "      <th>High</th>\n",
       "      <th>Low</th>\n",
       "      <th>Close</th>\n",
       "      <th>Adj Close</th>\n",
       "      <th>Volume</th>\n",
       "    </tr>\n",
       "  </thead>\n",
       "  <tbody>\n",
       "    <tr>\n",
       "      <td>Open</td>\n",
       "      <td>1.000000</td>\n",
       "      <td>0.999569</td>\n",
       "      <td>0.999550</td>\n",
       "      <td>0.999019</td>\n",
       "      <td>0.999019</td>\n",
       "      <td>0.453993</td>\n",
       "    </tr>\n",
       "    <tr>\n",
       "      <td>High</td>\n",
       "      <td>0.999569</td>\n",
       "      <td>1.000000</td>\n",
       "      <td>0.999480</td>\n",
       "      <td>0.999616</td>\n",
       "      <td>0.999616</td>\n",
       "      <td>0.462806</td>\n",
       "    </tr>\n",
       "    <tr>\n",
       "      <td>Low</td>\n",
       "      <td>0.999550</td>\n",
       "      <td>0.999480</td>\n",
       "      <td>1.000000</td>\n",
       "      <td>0.999569</td>\n",
       "      <td>0.999569</td>\n",
       "      <td>0.444386</td>\n",
       "    </tr>\n",
       "    <tr>\n",
       "      <td>Close</td>\n",
       "      <td>0.999019</td>\n",
       "      <td>0.999616</td>\n",
       "      <td>0.999569</td>\n",
       "      <td>1.000000</td>\n",
       "      <td>1.000000</td>\n",
       "      <td>0.453934</td>\n",
       "    </tr>\n",
       "    <tr>\n",
       "      <td>Adj Close</td>\n",
       "      <td>0.999019</td>\n",
       "      <td>0.999616</td>\n",
       "      <td>0.999569</td>\n",
       "      <td>1.000000</td>\n",
       "      <td>1.000000</td>\n",
       "      <td>0.453934</td>\n",
       "    </tr>\n",
       "    <tr>\n",
       "      <td>Volume</td>\n",
       "      <td>0.453993</td>\n",
       "      <td>0.462806</td>\n",
       "      <td>0.444386</td>\n",
       "      <td>0.453934</td>\n",
       "      <td>0.453934</td>\n",
       "      <td>1.000000</td>\n",
       "    </tr>\n",
       "  </tbody>\n",
       "</table>\n",
       "</div>"
      ],
      "text/plain": [
       "               Open      High       Low     Close  Adj Close    Volume\n",
       "Open       1.000000  0.999569  0.999550  0.999019   0.999019  0.453993\n",
       "High       0.999569  1.000000  0.999480  0.999616   0.999616  0.462806\n",
       "Low        0.999550  0.999480  1.000000  0.999569   0.999569  0.444386\n",
       "Close      0.999019  0.999616  0.999569  1.000000   1.000000  0.453934\n",
       "Adj Close  0.999019  0.999616  0.999569  1.000000   1.000000  0.453934\n",
       "Volume     0.453993  0.462806  0.444386  0.453934   0.453934  1.000000"
      ]
     },
     "execution_count": 273,
     "metadata": {},
     "output_type": "execute_result"
    }
   ],
   "source": [
    "import pandas as pd\n",
    "import os\n",
    "import matplotlib.pyplot as plt\n",
    "import seaborn as sns\n",
    "import numpy as np\n",
    "import warnings \n",
    "warnings.filterwarnings('ignore')\n",
    "\n",
    "stock_data = pd.read_csv(os.getcwd() + \"/Stock_Data/TSLA.csv\")\n",
    "stock_data.corr()"
   ]
  },
  {
   "cell_type": "markdown",
   "metadata": {},
   "source": [
    "In the correlations shown above, there is a 0.453 correlation between Volume and Close which can be considered relatively strong positve correlation and key to our algorithm. We're looking for the extreme cases of volume where we believe there will be a stronger correlation."
   ]
  },
  {
   "cell_type": "code",
   "execution_count": 274,
   "metadata": {},
   "outputs": [
    {
     "data": {
      "image/png": "[encoded data removed]",
      "text/plain": [
       "<Figure size 576x432 with 2 Axes>"
      ]
     },
     "metadata": {
      "needs_background": "light"
     },
     "output_type": "display_data"
    }
   ],
   "source": [
    "f,ax = plt.subplots(figsize=(8, 6))\n",
    "sns.heatmap(stock_data.corr(), annot=True, linewidths=.5, fmt= '.1f',ax=ax)\n",
    "ax.set_ylim(6, 0)\n",
    "plt.show()"
   ]
  },
  {
   "cell_type": "markdown",
   "metadata": {},
   "source": [
    "In the heatmap shown above, volume seems to have a relatively strong correlation with all of the other attributes"
   ]
  },
  {
   "cell_type": "code",
   "execution_count": 275,
   "metadata": {},
   "outputs": [
    {
     "name": "stdout",
     "output_type": "stream",
     "text": [
      "<class 'pandas.core.frame.DataFrame'>\n",
      "RangeIndex: 2324 entries, 0 to 2323\n",
      "Data columns (total 7 columns):\n",
      "Date         2324 non-null object\n",
      "Open         2324 non-null float64\n",
      "High         2324 non-null float64\n",
      "Low          2324 non-null float64\n",
      "Close        2324 non-null float64\n",
      "Adj Close    2324 non-null float64\n",
      "Volume       2324 non-null int64\n",
      "dtypes: float64(5), int64(1), object(1)\n",
      "memory usage: 127.2+ KB\n"
     ]
    }
   ],
   "source": [
    "stock_data.info()"
   ]
  },
  {
   "cell_type": "code",
   "execution_count": 276,
   "metadata": {},
   "outputs": [
    {
     "data": {
      "text/html": [
       "<div>\n",
       "<style scoped>\n",
       "    .dataframe tbody tr th:only-of-type {\n",
       "        vertical-align: middle;\n",
       "    }\n",
       "\n",
       "    .dataframe tbody tr th {\n",
       "        vertical-align: top;\n",
       "    }\n",
       "\n",
       "    .dataframe thead th {\n",
       "        text-align: right;\n",
       "    }\n",
       "</style>\n",
       "<table border=\"1\" class=\"dataframe\">\n",
       "  <thead>\n",
       "    <tr style=\"text-align: right;\">\n",
       "      <th></th>\n",
       "      <th>Date</th>\n",
       "      <th>Open</th>\n",
       "      <th>High</th>\n",
       "      <th>Low</th>\n",
       "      <th>Close</th>\n",
       "      <th>Adj Close</th>\n",
       "      <th>Volume</th>\n",
       "    </tr>\n",
       "  </thead>\n",
       "  <tbody>\n",
       "    <tr>\n",
       "      <td>0</td>\n",
       "      <td>2010-06-29</td>\n",
       "      <td>19.000000</td>\n",
       "      <td>25.00</td>\n",
       "      <td>17.540001</td>\n",
       "      <td>23.889999</td>\n",
       "      <td>23.889999</td>\n",
       "      <td>18766300</td>\n",
       "    </tr>\n",
       "    <tr>\n",
       "      <td>1</td>\n",
       "      <td>2010-06-30</td>\n",
       "      <td>25.790001</td>\n",
       "      <td>30.42</td>\n",
       "      <td>23.299999</td>\n",
       "      <td>23.830000</td>\n",
       "      <td>23.830000</td>\n",
       "      <td>17187100</td>\n",
       "    </tr>\n",
       "    <tr>\n",
       "      <td>2</td>\n",
       "      <td>2010-07-01</td>\n",
       "      <td>25.000000</td>\n",
       "      <td>25.92</td>\n",
       "      <td>20.270000</td>\n",
       "      <td>21.959999</td>\n",
       "      <td>21.959999</td>\n",
       "      <td>8218800</td>\n",
       "    </tr>\n",
       "    <tr>\n",
       "      <td>3</td>\n",
       "      <td>2010-07-02</td>\n",
       "      <td>23.000000</td>\n",
       "      <td>23.10</td>\n",
       "      <td>18.709999</td>\n",
       "      <td>19.200001</td>\n",
       "      <td>19.200001</td>\n",
       "      <td>5139800</td>\n",
       "    </tr>\n",
       "    <tr>\n",
       "      <td>4</td>\n",
       "      <td>2010-07-06</td>\n",
       "      <td>20.000000</td>\n",
       "      <td>20.00</td>\n",
       "      <td>15.830000</td>\n",
       "      <td>16.110001</td>\n",
       "      <td>16.110001</td>\n",
       "      <td>6866900</td>\n",
       "    </tr>\n",
       "  </tbody>\n",
       "</table>\n",
       "</div>"
      ],
      "text/plain": [
       "        Date       Open   High        Low      Close  Adj Close    Volume\n",
       "0 2010-06-29  19.000000  25.00  17.540001  23.889999  23.889999  18766300\n",
       "1 2010-06-30  25.790001  30.42  23.299999  23.830000  23.830000  17187100\n",
       "2 2010-07-01  25.000000  25.92  20.270000  21.959999  21.959999   8218800\n",
       "3 2010-07-02  23.000000  23.10  18.709999  19.200001  19.200001   5139800\n",
       "4 2010-07-06  20.000000  20.00  15.830000  16.110001  16.110001   6866900"
      ]
     },
     "execution_count": 276,
     "metadata": {},
     "output_type": "execute_result"
    }
   ],
   "source": [
    "# The date is being saved as string, we need to convert that to date time so that\n",
    "# pandas will be able to organize the information by time.\n",
    "stock_data['Date'] = pd.to_datetime(stock_data['Date'])\n",
    "stock_data = stock_data.sort_values(by='Date')\n",
    "stock_data.head()"
   ]
  },
  {
   "cell_type": "markdown",
   "metadata": {},
   "source": [
    "<img src = \"Avg Volume.png\" width = \"700\">"
   ]
  },
  {
   "cell_type": "code",
   "execution_count": 285,
   "metadata": {},
   "outputs": [
    {
     "data": {
      "text/html": [
       "<div>\n",
       "<style scoped>\n",
       "    .dataframe tbody tr th:only-of-type {\n",
       "        vertical-align: middle;\n",
       "    }\n",
       "\n",
       "    .dataframe tbody tr th {\n",
       "        vertical-align: top;\n",
       "    }\n",
       "\n",
       "    .dataframe thead th {\n",
       "        text-align: right;\n",
       "    }\n",
       "</style>\n",
       "<table border=\"1\" class=\"dataframe\">\n",
       "  <thead>\n",
       "    <tr style=\"text-align: right;\">\n",
       "      <th></th>\n",
       "      <th>Open</th>\n",
       "      <th>High</th>\n",
       "      <th>Low</th>\n",
       "      <th>Close</th>\n",
       "      <th>Adj Close</th>\n",
       "      <th>Volume</th>\n",
       "      <th>Outlier</th>\n",
       "      <th>Prediction</th>\n",
       "    </tr>\n",
       "  </thead>\n",
       "  <tbody>\n",
       "    <tr>\n",
       "      <td>count</td>\n",
       "      <td>2324.000000</td>\n",
       "      <td>2324.000000</td>\n",
       "      <td>2324.000000</td>\n",
       "      <td>2324.000000</td>\n",
       "      <td>2324.000000</td>\n",
       "      <td>2.324000e+03</td>\n",
       "      <td>2324.0</td>\n",
       "      <td>2324.0</td>\n",
       "    </tr>\n",
       "    <tr>\n",
       "      <td>mean</td>\n",
       "      <td>179.103275</td>\n",
       "      <td>182.202904</td>\n",
       "      <td>175.816979</td>\n",
       "      <td>179.099368</td>\n",
       "      <td>179.099368</td>\n",
       "      <td>5.318146e+06</td>\n",
       "      <td>0.0</td>\n",
       "      <td>0.0</td>\n",
       "    </tr>\n",
       "    <tr>\n",
       "      <td>std</td>\n",
       "      <td>113.302123</td>\n",
       "      <td>115.044299</td>\n",
       "      <td>111.427284</td>\n",
       "      <td>113.306670</td>\n",
       "      <td>113.306670</td>\n",
       "      <td>4.659933e+06</td>\n",
       "      <td>0.0</td>\n",
       "      <td>0.0</td>\n",
       "    </tr>\n",
       "    <tr>\n",
       "      <td>min</td>\n",
       "      <td>16.139999</td>\n",
       "      <td>16.629999</td>\n",
       "      <td>14.980000</td>\n",
       "      <td>15.800000</td>\n",
       "      <td>15.800000</td>\n",
       "      <td>1.185000e+05</td>\n",
       "      <td>0.0</td>\n",
       "      <td>0.0</td>\n",
       "    </tr>\n",
       "    <tr>\n",
       "      <td>25%</td>\n",
       "      <td>33.842498</td>\n",
       "      <td>34.487502</td>\n",
       "      <td>33.184999</td>\n",
       "      <td>33.817500</td>\n",
       "      <td>33.817500</td>\n",
       "      <td>1.761525e+06</td>\n",
       "      <td>0.0</td>\n",
       "      <td>0.0</td>\n",
       "    </tr>\n",
       "    <tr>\n",
       "      <td>50%</td>\n",
       "      <td>209.219993</td>\n",
       "      <td>213.149994</td>\n",
       "      <td>206.025002</td>\n",
       "      <td>208.705001</td>\n",
       "      <td>208.705001</td>\n",
       "      <td>4.414150e+06</td>\n",
       "      <td>0.0</td>\n",
       "      <td>0.0</td>\n",
       "    </tr>\n",
       "    <tr>\n",
       "      <td>75%</td>\n",
       "      <td>260.759995</td>\n",
       "      <td>264.497505</td>\n",
       "      <td>255.734997</td>\n",
       "      <td>260.789993</td>\n",
       "      <td>260.789993</td>\n",
       "      <td>7.130325e+06</td>\n",
       "      <td>0.0</td>\n",
       "      <td>0.0</td>\n",
       "    </tr>\n",
       "    <tr>\n",
       "      <td>max</td>\n",
       "      <td>386.690002</td>\n",
       "      <td>389.609985</td>\n",
       "      <td>379.350006</td>\n",
       "      <td>385.000000</td>\n",
       "      <td>385.000000</td>\n",
       "      <td>3.716390e+07</td>\n",
       "      <td>0.0</td>\n",
       "      <td>0.0</td>\n",
       "    </tr>\n",
       "  </tbody>\n",
       "</table>\n",
       "</div>"
      ],
      "text/plain": [
       "              Open         High          Low        Close    Adj Close  \\\n",
       "count  2324.000000  2324.000000  2324.000000  2324.000000  2324.000000   \n",
       "mean    179.103275   182.202904   175.816979   179.099368   179.099368   \n",
       "std     113.302123   115.044299   111.427284   113.306670   113.306670   \n",
       "min      16.139999    16.629999    14.980000    15.800000    15.800000   \n",
       "25%      33.842498    34.487502    33.184999    33.817500    33.817500   \n",
       "50%     209.219993   213.149994   206.025002   208.705001   208.705001   \n",
       "75%     260.759995   264.497505   255.734997   260.789993   260.789993   \n",
       "max     386.690002   389.609985   379.350006   385.000000   385.000000   \n",
       "\n",
       "             Volume  Outlier  Prediction  \n",
       "count  2.324000e+03   2324.0      2324.0  \n",
       "mean   5.318146e+06      0.0         0.0  \n",
       "std    4.659933e+06      0.0         0.0  \n",
       "min    1.185000e+05      0.0         0.0  \n",
       "25%    1.761525e+06      0.0         0.0  \n",
       "50%    4.414150e+06      0.0         0.0  \n",
       "75%    7.130325e+06      0.0         0.0  \n",
       "max    3.716390e+07      0.0         0.0  "
      ]
     },
     "execution_count": 285,
     "metadata": {},
     "output_type": "execute_result"
    }
   ],
   "source": [
    "stock_data.describe()"
   ]
  },
  {
   "cell_type": "code",
   "execution_count": 286,
   "metadata": {},
   "outputs": [],
   "source": [
    "# We're dropping all rows with null values because replacing them with the volume mean \n",
    "# would skew the data since the range is extremely sparse \n",
    "# We only want to deal with actual values\n",
    "stock_data = stock_data.dropna()"
   ]
  },
  {
   "cell_type": "code",
   "execution_count": 287,
   "metadata": {},
   "outputs": [],
   "source": [
    "# Outlier is going to be a binary indication on whether the volume is \n",
    "# an outlier compared to the cumalative sum of the mean at the time its\n",
    "# being calculated\n",
    "stock_data['Outlier'] = 0\n",
    "\n",
    "# Prediction is going to be an inidication on the direction we think the\n",
    "# stock is going to move\n",
    "# 1 means we want to buy\n",
    "# 0 means hold\n",
    "# -1 means we want to sell\n",
    "stock_data['Prediction'] = 0"
   ]
  },
  {
   "cell_type": "markdown",
   "metadata": {
    "slideshow": {
     "slide_type": "subslide"
    }
   },
   "source": [
    "### The stochastic oscillator is calculated using the following formula:\n",
    "%K = 100(C – L14)/(H14 – L14)\n",
    "\n",
    "Where:\n",
    "* C = the most recent closing price\n",
    "* L14 = the low of the 14 previous trading sessions\n",
    "* H14 = the highest price traded during the same 14-day period\n",
    "* %K= the current market rate for the currency pair\n",
    "* %D = 3-period moving average of %K"
   ]
  },
  {
   "cell_type": "code",
   "execution_count": 279,
   "metadata": {},
   "outputs": [],
   "source": [
    "# Calculates Stochastic Oscillator values and adds the columns and values in the dataframe\n",
    "def create_stochastic_oscillator(stock_data):\n",
    "    stock_data['L14'] = stock_data['Low'].rolling(window=14).min()\n",
    "    stock_data['H14'] = stock_data['High'].rolling(window=14).max()\n",
    "    stock_data['%K'] = 100*((stock_data['Close'] - stock_data['L14']) / (stock_data['H14'] - stock_data['L14']))\n",
    "    stock_data['%D'] = stock_data['%K'].rolling(window=3).mean()\n",
    "    return stock_data"
   ]
  },
  {
   "cell_type": "code",
   "execution_count": 280,
   "metadata": {},
   "outputs": [],
   "source": [
    "def draw_stochastic_oscillator(stock_data):\n",
    "    fig, axes = plt.subplots(figsize=(20,10))   \n",
    "    stock_data[['%K','%D']].plot(ax=axes); axes.set_title('Oscillator')\n",
    "    plt.show()"
   ]
  },
  {
   "cell_type": "code",
   "execution_count": 281,
   "metadata": {},
   "outputs": [],
   "source": [
    " def calculate_long_short(stock_data):   \n",
    "    \n",
    "    # Create a column showing \"TRUE\" if sell entry signal is given and \"FALSE\" otherwise. \n",
    "    # A sell is initiated when the %K line crosses down through the %D line and the value of the oscillator is above 80 \n",
    "    stock_data['Sell Entry'] = ((stock_data['%K'] < stock_data['%D']) & (stock_data['%K'].shift(1) > stock_data['%D'].shift(1))) & (stock_data['%D'] > 80)\n",
    "\n",
    "    #Create a column in the DataFrame showing \"TRUE\" if sell exit signal is given and \"FALSE\" otherwise. \n",
    "    #A sell exit signal is given when the %K line crosses back up through the %D line \n",
    "    stock_data['Sell Exit'] = ((stock_data['%K'] > stock_data['%D']) & (stock_data['%K'].shift(1) < stock_data['%D'].shift(1))) \n",
    "\n",
    "    #create a placeholder column to populate with short positions (-1 for short and 0 for flat) using boolean values created above \n",
    "    stock_data['Short'] = np.nan \n",
    "    stock_data.loc[stock_data['Sell Entry'],'Short'] = -1 \n",
    "    stock_data.loc[stock_data['Sell Exit'],'Short'] = 0 \n",
    "\n",
    "\n",
    "    #Set initial position on day 1 to flat \n",
    "    stock_data['Short'][0] = 0 \n",
    "\n",
    "    #Forward fill the position column to represent the holding of positions through time \n",
    "    stock_data['Short'] = stock_data['Short'].fillna(method='pad') \n",
    "\n",
    "    #Create a column in stock_data showing \"TRUE\" if buy entry signal is given and \"FALSE\" otherwise. \n",
    "    #A buy is initiated when the %K line crosses up through the %D line and the value of the oscillator is below 20 \n",
    "    stock_data['Buy Entry'] = ((stock_data['%K'] > stock_data['%D']) & (stock_data['%K'].shift(1) < stock_data['%D'].shift(1))) & (stock_data['%D'] < 20) \n",
    "\n",
    "    #Create a column in stock_data showing \"TRUE\" if buy exit signal is given and \"FALSE\" otherwise. \n",
    "    #A buy exit signal is given when the %K line crosses back down through the %D line \n",
    "    stock_data['Buy Exit'] = ((stock_data['%K'] < stock_data['%D']) & (stock_data['%K'].shift(1) > stock_data['%D'].shift(1))) \n",
    "\n",
    "\n",
    "    #create a placeholder column to polulate with long positions (1 for long and 0 for flat) using boolean values created above \n",
    "    stock_data['Long'] = np.nan  \n",
    "    stock_data.loc[stock_data['Buy Entry'],'Long'] = 1  \n",
    "    stock_data.loc[stock_data['Buy Exit'],'Long'] = 0\n",
    "\n",
    "    #Set initial position on day 1 to flat \n",
    "    stock_data['Long'][0] = 0  \n",
    "\n",
    "    #Forward fill the position column to represent the holding of positions through time \n",
    "    stock_data['Long'] = stock_data['Long'].fillna(method='pad') \n",
    "\n",
    "    #Add Long and Short positions together to get final strategy position (1 for long, -1 for short and 0 for flat) \n",
    "    stock_data['Position'] = stock_data['Long'] + stock_data['Short']\n",
    "    \n",
    "    return stock_data"
   ]
  },
  {
   "cell_type": "code",
   "execution_count": 282,
   "metadata": {},
   "outputs": [],
   "source": [
    "def draw_long_short(stock_data):\n",
    "    stock_data['Position'].plot(figsize=(20,10))"
   ]
  },
  {
   "cell_type": "code",
   "execution_count": 283,
   "metadata": {},
   "outputs": [],
   "source": [
    "def draw_strategy_vs_market_return(stock_data):\n",
    "    #Set up a column holding the daily Tesla returns\n",
    "    stock_data['Market Returns'] = stock_data['Close'].pct_change()\n",
    "\n",
    "    #Create column for Strategy Returns by multiplying the daily Apple returns by the position that was held at close\n",
    "    #of business the previous day\n",
    "    stock_data['Strategy Returns'] = stock_data['Market Returns'] * stock_data['Position'].shift(1)\n",
    "\n",
    "    #Finally plot the strategy returns versus Apple returns\n",
    "    stock_data[['Strategy Returns','Market Returns']].cumsum().plot()"
   ]
  },
  {
   "cell_type": "code",
   "execution_count": 284,
   "metadata": {},
   "outputs": [
    {
     "ename": "KeyError",
     "evalue": "'%K'",
     "output_type": "error",
     "traceback": [
      "\u001b[0;31m---------------------------------------------------------------------------\u001b[0m",
      "\u001b[0;31mKeyError\u001b[0m                                  Traceback (most recent call last)",
      "\u001b[0;32m~/Desktop/Hack_Rice_Stock_Prediction/venv/lib/python3.7/site-packages/pandas/core/indexes/base.py\u001b[0m in \u001b[0;36mget_loc\u001b[0;34m(self, key, method, tolerance)\u001b[0m\n\u001b[1;32m   2896\u001b[0m             \u001b[0;32mtry\u001b[0m\u001b[0;34m:\u001b[0m\u001b[0;34m\u001b[0m\u001b[0;34m\u001b[0m\u001b[0m\n\u001b[0;32m-> 2897\u001b[0;31m                 \u001b[0;32mreturn\u001b[0m \u001b[0mself\u001b[0m\u001b[0;34m.\u001b[0m\u001b[0m_engine\u001b[0m\u001b[0;34m.\u001b[0m\u001b[0mget_loc\u001b[0m\u001b[0;34m(\u001b[0m\u001b[0mkey\u001b[0m\u001b[0;34m)\u001b[0m\u001b[0;34m\u001b[0m\u001b[0;34m\u001b[0m\u001b[0m\n\u001b[0m\u001b[1;32m   2898\u001b[0m             \u001b[0;32mexcept\u001b[0m \u001b[0mKeyError\u001b[0m\u001b[0;34m:\u001b[0m\u001b[0;34m\u001b[0m\u001b[0;34m\u001b[0m\u001b[0m\n",
      "\u001b[0;32mpandas/_libs/index.pyx\u001b[0m in \u001b[0;36mpandas._libs.index.IndexEngine.get_loc\u001b[0;34m()\u001b[0m\n",
      "\u001b[0;32mpandas/_libs/index.pyx\u001b[0m in \u001b[0;36mpandas._libs.index.IndexEngine.get_loc\u001b[0;34m()\u001b[0m\n",
      "\u001b[0;32mpandas/_libs/hashtable_class_helper.pxi\u001b[0m in \u001b[0;36mpandas._libs.hashtable.PyObjectHashTable.get_item\u001b[0;34m()\u001b[0m\n",
      "\u001b[0;32mpandas/_libs/hashtable_class_helper.pxi\u001b[0m in \u001b[0;36mpandas._libs.hashtable.PyObjectHashTable.get_item\u001b[0;34m()\u001b[0m\n",
      "\u001b[0;31mKeyError\u001b[0m: '%K'",
      "\nDuring handling of the above exception, another exception occurred:\n",
      "\u001b[0;31mKeyError\u001b[0m                                  Traceback (most recent call last)",
      "\u001b[0;32m<ipython-input-284-daa51b9b2635>\u001b[0m in \u001b[0;36m<module>\u001b[0;34m\u001b[0m\n\u001b[1;32m     24\u001b[0m     \u001b[0mplt\u001b[0m\u001b[0;34m.\u001b[0m\u001b[0maxhline\u001b[0m\u001b[0;34m(\u001b[0m\u001b[0my\u001b[0m\u001b[0;34m=\u001b[0m\u001b[0;36m0\u001b[0m\u001b[0;34m,\u001b[0m \u001b[0mcolor\u001b[0m\u001b[0;34m=\u001b[0m\u001b[0;34m'r'\u001b[0m\u001b[0;34m,\u001b[0m \u001b[0mlinestyle\u001b[0m\u001b[0;34m=\u001b[0m\u001b[0;34m'-'\u001b[0m\u001b[0;34m)\u001b[0m\u001b[0;34m\u001b[0m\u001b[0;34m\u001b[0m\u001b[0m\n\u001b[1;32m     25\u001b[0m     \u001b[0mplt\u001b[0m\u001b[0;34m.\u001b[0m\u001b[0mshow\u001b[0m\u001b[0;34m(\u001b[0m\u001b[0;34m)\u001b[0m\u001b[0;34m\u001b[0m\u001b[0;34m\u001b[0m\u001b[0m\n\u001b[0;32m---> 26\u001b[0;31m \u001b[0mdraw_buy_sell_entry\u001b[0m\u001b[0;34m(\u001b[0m\u001b[0mstock_data\u001b[0m\u001b[0;34m)\u001b[0m\u001b[0;34m\u001b[0m\u001b[0;34m\u001b[0m\u001b[0m\n\u001b[0m",
      "\u001b[0;32m<ipython-input-284-daa51b9b2635>\u001b[0m in \u001b[0;36mdraw_buy_sell_entry\u001b[0;34m(stock_data)\u001b[0m\n\u001b[1;32m      1\u001b[0m \u001b[0;32mdef\u001b[0m \u001b[0mdraw_buy_sell_entry\u001b[0m\u001b[0;34m(\u001b[0m\u001b[0mstock_data\u001b[0m\u001b[0;34m)\u001b[0m\u001b[0;34m:\u001b[0m\u001b[0;34m\u001b[0m\u001b[0;34m\u001b[0m\u001b[0m\n\u001b[0;32m----> 2\u001b[0;31m     \u001b[0mstock_data\u001b[0m\u001b[0;34m[\u001b[0m\u001b[0;34m'Sell Entry'\u001b[0m\u001b[0;34m]\u001b[0m \u001b[0;34m=\u001b[0m \u001b[0;34m(\u001b[0m\u001b[0;34m(\u001b[0m\u001b[0mstock_data\u001b[0m\u001b[0;34m[\u001b[0m\u001b[0;34m'%K'\u001b[0m\u001b[0;34m]\u001b[0m \u001b[0;34m<\u001b[0m \u001b[0mstock_data\u001b[0m\u001b[0;34m[\u001b[0m\u001b[0;34m'%D'\u001b[0m\u001b[0;34m]\u001b[0m\u001b[0;34m)\u001b[0m \u001b[0;34m&\u001b[0m \u001b[0;34m(\u001b[0m\u001b[0mstock_data\u001b[0m\u001b[0;34m[\u001b[0m\u001b[0;34m'%K'\u001b[0m\u001b[0;34m]\u001b[0m\u001b[0;34m.\u001b[0m\u001b[0mshift\u001b[0m\u001b[0;34m(\u001b[0m\u001b[0;36m1\u001b[0m\u001b[0;34m)\u001b[0m \u001b[0;34m>\u001b[0m \u001b[0mstock_data\u001b[0m\u001b[0;34m[\u001b[0m\u001b[0;34m'%D'\u001b[0m\u001b[0;34m]\u001b[0m\u001b[0;34m.\u001b[0m\u001b[0mshift\u001b[0m\u001b[0;34m(\u001b[0m\u001b[0;36m1\u001b[0m\u001b[0;34m)\u001b[0m\u001b[0;34m)\u001b[0m\u001b[0;34m)\u001b[0m \u001b[0;34m&\u001b[0m \u001b[0;34m(\u001b[0m\u001b[0mstock_data\u001b[0m\u001b[0;34m[\u001b[0m\u001b[0;34m'%D'\u001b[0m\u001b[0;34m]\u001b[0m \u001b[0;34m>\u001b[0m \u001b[0;36m80\u001b[0m\u001b[0;34m)\u001b[0m\u001b[0;34m\u001b[0m\u001b[0;34m\u001b[0m\u001b[0m\n\u001b[0m\u001b[1;32m      3\u001b[0m     \u001b[0mstock_data\u001b[0m\u001b[0;34m[\u001b[0m\u001b[0;34m'Buy Entry'\u001b[0m\u001b[0;34m]\u001b[0m \u001b[0;34m=\u001b[0m \u001b[0;34m(\u001b[0m\u001b[0;34m(\u001b[0m\u001b[0mstock_data\u001b[0m\u001b[0;34m[\u001b[0m\u001b[0;34m'%K'\u001b[0m\u001b[0;34m]\u001b[0m \u001b[0;34m>\u001b[0m \u001b[0mstock_data\u001b[0m\u001b[0;34m[\u001b[0m\u001b[0;34m'%D'\u001b[0m\u001b[0;34m]\u001b[0m\u001b[0;34m)\u001b[0m \u001b[0;34m&\u001b[0m \u001b[0;34m(\u001b[0m\u001b[0mstock_data\u001b[0m\u001b[0;34m[\u001b[0m\u001b[0;34m'%K'\u001b[0m\u001b[0;34m]\u001b[0m\u001b[0;34m.\u001b[0m\u001b[0mshift\u001b[0m\u001b[0;34m(\u001b[0m\u001b[0;36m1\u001b[0m\u001b[0;34m)\u001b[0m \u001b[0;34m<\u001b[0m \u001b[0mstock_data\u001b[0m\u001b[0;34m[\u001b[0m\u001b[0;34m'%D'\u001b[0m\u001b[0;34m]\u001b[0m\u001b[0;34m.\u001b[0m\u001b[0mshift\u001b[0m\u001b[0;34m(\u001b[0m\u001b[0;36m1\u001b[0m\u001b[0;34m)\u001b[0m\u001b[0;34m)\u001b[0m\u001b[0;34m)\u001b[0m \u001b[0;34m&\u001b[0m \u001b[0;34m(\u001b[0m\u001b[0mstock_data\u001b[0m\u001b[0;34m[\u001b[0m\u001b[0;34m'%D'\u001b[0m\u001b[0;34m]\u001b[0m \u001b[0;34m<\u001b[0m \u001b[0;36m20\u001b[0m\u001b[0;34m)\u001b[0m\u001b[0;34m\u001b[0m\u001b[0;34m\u001b[0m\u001b[0m\n\u001b[1;32m      4\u001b[0m     \u001b[0;31m#Create empty \"Position\" column\u001b[0m\u001b[0;34m\u001b[0m\u001b[0;34m\u001b[0m\u001b[0;34m\u001b[0m\u001b[0m\n\u001b[1;32m      5\u001b[0m     \u001b[0mstock_data\u001b[0m\u001b[0;34m[\u001b[0m\u001b[0;34m'Position'\u001b[0m\u001b[0;34m]\u001b[0m \u001b[0;34m=\u001b[0m \u001b[0mnp\u001b[0m\u001b[0;34m.\u001b[0m\u001b[0mnan\u001b[0m\u001b[0;34m\u001b[0m\u001b[0;34m\u001b[0m\u001b[0m\n",
      "\u001b[0;32m~/Desktop/Hack_Rice_Stock_Prediction/venv/lib/python3.7/site-packages/pandas/core/frame.py\u001b[0m in \u001b[0;36m__getitem__\u001b[0;34m(self, key)\u001b[0m\n\u001b[1;32m   2978\u001b[0m             \u001b[0;32mif\u001b[0m \u001b[0mself\u001b[0m\u001b[0;34m.\u001b[0m\u001b[0mcolumns\u001b[0m\u001b[0;34m.\u001b[0m\u001b[0mnlevels\u001b[0m \u001b[0;34m>\u001b[0m \u001b[0;36m1\u001b[0m\u001b[0;34m:\u001b[0m\u001b[0;34m\u001b[0m\u001b[0;34m\u001b[0m\u001b[0m\n\u001b[1;32m   2979\u001b[0m                 \u001b[0;32mreturn\u001b[0m \u001b[0mself\u001b[0m\u001b[0;34m.\u001b[0m\u001b[0m_getitem_multilevel\u001b[0m\u001b[0;34m(\u001b[0m\u001b[0mkey\u001b[0m\u001b[0;34m)\u001b[0m\u001b[0;34m\u001b[0m\u001b[0;34m\u001b[0m\u001b[0m\n\u001b[0;32m-> 2980\u001b[0;31m             \u001b[0mindexer\u001b[0m \u001b[0;34m=\u001b[0m \u001b[0mself\u001b[0m\u001b[0;34m.\u001b[0m\u001b[0mcolumns\u001b[0m\u001b[0;34m.\u001b[0m\u001b[0mget_loc\u001b[0m\u001b[0;34m(\u001b[0m\u001b[0mkey\u001b[0m\u001b[0;34m)\u001b[0m\u001b[0;34m\u001b[0m\u001b[0;34m\u001b[0m\u001b[0m\n\u001b[0m\u001b[1;32m   2981\u001b[0m             \u001b[0;32mif\u001b[0m \u001b[0mis_integer\u001b[0m\u001b[0;34m(\u001b[0m\u001b[0mindexer\u001b[0m\u001b[0;34m)\u001b[0m\u001b[0;34m:\u001b[0m\u001b[0;34m\u001b[0m\u001b[0;34m\u001b[0m\u001b[0m\n\u001b[1;32m   2982\u001b[0m                 \u001b[0mindexer\u001b[0m \u001b[0;34m=\u001b[0m \u001b[0;34m[\u001b[0m\u001b[0mindexer\u001b[0m\u001b[0;34m]\u001b[0m\u001b[0;34m\u001b[0m\u001b[0;34m\u001b[0m\u001b[0m\n",
      "\u001b[0;32m~/Desktop/Hack_Rice_Stock_Prediction/venv/lib/python3.7/site-packages/pandas/core/indexes/base.py\u001b[0m in \u001b[0;36mget_loc\u001b[0;34m(self, key, method, tolerance)\u001b[0m\n\u001b[1;32m   2897\u001b[0m                 \u001b[0;32mreturn\u001b[0m \u001b[0mself\u001b[0m\u001b[0;34m.\u001b[0m\u001b[0m_engine\u001b[0m\u001b[0;34m.\u001b[0m\u001b[0mget_loc\u001b[0m\u001b[0;34m(\u001b[0m\u001b[0mkey\u001b[0m\u001b[0;34m)\u001b[0m\u001b[0;34m\u001b[0m\u001b[0;34m\u001b[0m\u001b[0m\n\u001b[1;32m   2898\u001b[0m             \u001b[0;32mexcept\u001b[0m \u001b[0mKeyError\u001b[0m\u001b[0;34m:\u001b[0m\u001b[0;34m\u001b[0m\u001b[0;34m\u001b[0m\u001b[0m\n\u001b[0;32m-> 2899\u001b[0;31m                 \u001b[0;32mreturn\u001b[0m \u001b[0mself\u001b[0m\u001b[0;34m.\u001b[0m\u001b[0m_engine\u001b[0m\u001b[0;34m.\u001b[0m\u001b[0mget_loc\u001b[0m\u001b[0;34m(\u001b[0m\u001b[0mself\u001b[0m\u001b[0;34m.\u001b[0m\u001b[0m_maybe_cast_indexer\u001b[0m\u001b[0;34m(\u001b[0m\u001b[0mkey\u001b[0m\u001b[0;34m)\u001b[0m\u001b[0;34m)\u001b[0m\u001b[0;34m\u001b[0m\u001b[0;34m\u001b[0m\u001b[0m\n\u001b[0m\u001b[1;32m   2900\u001b[0m         \u001b[0mindexer\u001b[0m \u001b[0;34m=\u001b[0m \u001b[0mself\u001b[0m\u001b[0;34m.\u001b[0m\u001b[0mget_indexer\u001b[0m\u001b[0;34m(\u001b[0m\u001b[0;34m[\u001b[0m\u001b[0mkey\u001b[0m\u001b[0;34m]\u001b[0m\u001b[0;34m,\u001b[0m \u001b[0mmethod\u001b[0m\u001b[0;34m=\u001b[0m\u001b[0mmethod\u001b[0m\u001b[0;34m,\u001b[0m \u001b[0mtolerance\u001b[0m\u001b[0;34m=\u001b[0m\u001b[0mtolerance\u001b[0m\u001b[0;34m)\u001b[0m\u001b[0;34m\u001b[0m\u001b[0;34m\u001b[0m\u001b[0m\n\u001b[1;32m   2901\u001b[0m         \u001b[0;32mif\u001b[0m \u001b[0mindexer\u001b[0m\u001b[0;34m.\u001b[0m\u001b[0mndim\u001b[0m \u001b[0;34m>\u001b[0m \u001b[0;36m1\u001b[0m \u001b[0;32mor\u001b[0m \u001b[0mindexer\u001b[0m\u001b[0;34m.\u001b[0m\u001b[0msize\u001b[0m \u001b[0;34m>\u001b[0m \u001b[0;36m1\u001b[0m\u001b[0;34m:\u001b[0m\u001b[0;34m\u001b[0m\u001b[0;34m\u001b[0m\u001b[0m\n",
      "\u001b[0;32mpandas/_libs/index.pyx\u001b[0m in \u001b[0;36mpandas._libs.index.IndexEngine.get_loc\u001b[0;34m()\u001b[0m\n",
      "\u001b[0;32mpandas/_libs/index.pyx\u001b[0m in \u001b[0;36mpandas._libs.index.IndexEngine.get_loc\u001b[0;34m()\u001b[0m\n",
      "\u001b[0;32mpandas/_libs/hashtable_class_helper.pxi\u001b[0m in \u001b[0;36mpandas._libs.hashtable.PyObjectHashTable.get_item\u001b[0;34m()\u001b[0m\n",
      "\u001b[0;32mpandas/_libs/hashtable_class_helper.pxi\u001b[0m in \u001b[0;36mpandas._libs.hashtable.PyObjectHashTable.get_item\u001b[0;34m()\u001b[0m\n",
      "\u001b[0;31mKeyError\u001b[0m: '%K'"
     ]
    }
   ],
   "source": [
    "def draw_buy_sell_entry(stock_data):\n",
    "    stock_data['Sell Entry'] = ((stock_data['%K'] < stock_data['%D']) & (stock_data['%K'].shift(1) > stock_data['%D'].shift(1))) & (stock_data['%D'] > 80)\n",
    "    stock_data['Buy Entry'] = ((stock_data['%K'] > stock_data['%D']) & (stock_data['%K'].shift(1) < stock_data['%D'].shift(1))) & (stock_data['%D'] < 20)\n",
    "    #Create empty \"Position\" column\n",
    "    stock_data['Position'] = np.nan \n",
    "    #Set position to -1 for sell signals\n",
    "    stock_data.loc[stock_data['Sell Entry'],'Position'] = -1 \n",
    "    #Set position to -1 for buy signals\n",
    "    stock_data.loc[stock_data['Buy Entry'],'Position'] = 1 \n",
    "    #Set starting position to flat (i.e. 0)\n",
    "    stock_data['Position'].iloc[0] = 0 \n",
    "    #Forward fill the position column to show holding of positions through time\n",
    "    stock_data['Position'] = stock_data['Position'].fillna(method='ffill')\n",
    "    #Set up a column holding the daily Apple returns\n",
    "    stock_data['Market Returns'] = stock_data['Close'].pct_change()\n",
    "    #Create column for Strategy Returns by multiplying the daily Apple returns by the position that was held at close\n",
    "    #of business the previous day\n",
    "    stock_data['Strategy Returns'] = stock_data['Market Returns'] * stock_data['Position'].shift(1)\n",
    "    #Finally plot the strategy returns versus Apple returns\n",
    "    stock_data[['Strategy Returns','Market Returns']].cumsum().plot(figsize=(20,7))\n",
    "    plt.title('TSLA Trading with a Stochastic Oscillator')\n",
    "    plt.xlabel('Trading Days')\n",
    "    plt.ylabel('Percent Returns')\n",
    "    plt.axhline(y=0, color='r', linestyle='-')\n",
    "    plt.show()\n",
    "draw_buy_sell_entry(stock_data)"
   ]
  },
  {
   "cell_type": "code",
   "execution_count": null,
   "metadata": {},
   "outputs": [],
   "source": [
    "def draw_predictions(stock_data):\n",
    "    stock_data['Sell Entry'] = (stock_data.Prediction.shift(1) == -1)  # ((stock_data['%K'] < stock_data['%D']) & (stock_data['%K'].shift(1) > stock_data['%D'].shift(1))) & (stock_data['%D'] > 80)\n",
    "    stock_data['Buy Entry'] = (stock_data.Prediction.shift(1) == 1)  # ((stock_data['%K'] > stock_data['%D']) & (stock_data['%K'].shift(1) < stock_data['%D'].shift(1))) & (stock_data['%D'] < 20)\n",
    "    #Create empty \"Position\" column\n",
    "    stock_data['Position'] = np.nan \n",
    "    #Set position to -1 for sell signals\n",
    "    stock_data.loc[stock_data['Sell Entry'],'Position'] = -1 \n",
    "    #Set position to -1 for buy signals\n",
    "    stock_data.loc[stock_data['Buy Entry'],'Position'] = 1 \n",
    "    #Set starting position to flat (i.e. 0)\n",
    "    stock_data['Position'].iloc[0] = 0 \n",
    "    #Forward fill the position column to show holding of positions through time\n",
    "    stock_data['Position'] = stock_data['Position'].fillna(method='ffill')\n",
    "    #Set up a column holding the daily Apple returns\n",
    "    stock_data['Market Returns'] = stock_data['Close'].pct_change()\n",
    "    #Create column for Strategy Returns by multiplying the daily Apple returns by the position that was held at close\n",
    "    #of business the previous day\n",
    "    stock_data['Strategy Returns'] = stock_data['Market Returns'] * stock_data['Position'].shift(1)\n",
    "    #Finally plot the strategy returns versus Apple returns\n",
    "    stock_data[['Strategy Returns','Market Returns']].cumsum().plot(figsize=(20,10))\n",
    "    plt.axhline(y=0, color='r', linestyle='-')\n",
    "    plt.show()\n",
    "    print('Strategy', stock_data['Strategy Returns'].iloc[-1])\n",
    "    print('Market', stock_data['Market Returns'].iloc[-1])\n",
    "\n",
    "    "
   ]
  },
  {
   "cell_type": "code",
   "execution_count": null,
   "metadata": {},
   "outputs": [],
   "source": [
    "def make_predictions(stock_data):\n",
    "    list_vol_avg = [stock_data.iloc[99].Volume]\n",
    "    vol_avg = int(np.mean(stock_data.iloc[:100].Volume))\n",
    "    for i in range(100, len(stock_data)):\n",
    "        q1 = np.percentile(stock_data.iloc[:i].Volume, 25)\n",
    "        q3 = np.percentile(stock_data.iloc[:i].Volume, 75)\n",
    "        iqr = (q3 - q1) * 1.1\n",
    "        if (stock_data.iloc[i].Volume < q1 - iqr) or (stock_data.iloc[i].Volume > q3 + iqr):\n",
    "            stock_data.set_value(i, 'Outlier', 1)\n",
    "            \n",
    "            \n",
    "        if (stock_data.iloc[i].Outlier == 1 and stock_data.iloc[i].Long == 1):\n",
    "            #stock_data.iloc[i].Prediction = 1\n",
    "            stock_data.set_value(i, 'Prediction', 1)\n",
    "            \n",
    "        if (stock_data.iloc[i].Outlier == 1 and stock_data.iloc[i].Short == -1):\n",
    "            #stock_data.iloc[i].Prediction = -1\n",
    "            stock_data.set_value(i, 'Prediction', -1)\n",
    "            \n",
    "        vol_avg = int(np.mean(stock_data.iloc[:i].Volume))\n",
    "        list_vol_avg.append(vol_avg)\n",
    "    return stock_data"
   ]
  },
  {
   "cell_type": "code",
   "execution_count": null,
   "metadata": {},
   "outputs": [],
   "source": [
    "def main():\n",
    "    stock_data = pd.read_csv(os.getcwd() + \"/Stock_Data/TSLA.csv\")\n",
    "    stock_data['Date'] = pd.to_datetime(stock_data['Date'])\n",
    "    stock_data = stock_data.sort_values(by='Date')\n",
    "    stock_data = stock_data.dropna()\n",
    "    \n",
    "    stock_data['Outlier'] = 0\n",
    "    stock_data['Prediction'] = 0\n",
    "    stock_data = create_stochastic_oscillator(stock_data)\n",
    "    stock_data = calculate_long_short(stock_data)\n",
    "    stock_data = make_predictions(stock_data)\n",
    "    stock_data.to_csv('TSLA_Stochastic_Oscillator_Dataframe.csv')\n",
    "    return stock_data\n",
    "    \n",
    "stock_data = main()"
   ]
  },
  {
   "cell_type": "code",
   "execution_count": null,
   "metadata": {
    "scrolled": true
   },
   "outputs": [],
   "source": [
    "draw_predictions(stock_data)"
   ]
  },
  {
   "cell_type": "code",
   "execution_count": null,
   "metadata": {},
   "outputs": [],
   "source": [
    "stock_data.corr()"
   ]
  },
  {
   "cell_type": "code",
   "execution_count": null,
   "metadata": {},
   "outputs": [],
   "source": []
  }
 ],
 "metadata": {
  "celltoolbar": "Slideshow",
  "kernelspec": {
   "display_name": "Python 3",
   "language": "python",
   "name": "python3"
  },
  "language_info": {
   "codemirror_mode": {
    "name": "ipython",
    "version": 3
   },
   "file_extension": ".py",
   "mimetype": "text/x-python",
   "name": "python",
   "nbconvert_exporter": "python",
   "pygments_lexer": "ipython3",
   "version": "3.7.2"
  },
  "pycharm": {
   "stem_cell": {
    "cell_type": "raw",
    "metadata": {
     "collapsed": false
    },
    "source": []
   }
  }
 },
 "nbformat": 4,
 "nbformat_minor": 1
}
