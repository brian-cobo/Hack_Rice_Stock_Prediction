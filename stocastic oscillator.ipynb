{
 "cells": [
  {
   "cell_type": "code",
   "execution_count": 4,
   "metadata": {
    "pycharm": {
     "is_executing": true
    }
   },
   "outputs": [],
   "source": [
    "import pandas as pd\n",
    "from pandas_datareader import data\n",
    "import os\n",
    "import matplotlib.pyplot as plt\n",
    "import numpy as np\n",
    "import seaborn as sns\n",
    "import warnings \n",
    "warnings.filterwarnings('ignore')"
   ]
  },
  {
   "cell_type": "markdown",
   "metadata": {},
   "source": [
    "# The stochastic oscillator is calculated using the following formula:\n",
    "\n",
    "%K = 100(C – L14)/(H14 – L14)\n",
    "\n",
    "Where:\n",
    "\n",
    "C = the most recent closing price\n",
    "\n",
    "L14 = the low of the 14 previous trading sessions\n",
    "\n",
    "H14 = the highest price traded during the same 14-day period\n",
    "\n",
    "%K= the current market rate for the currency pair\n",
    "\n",
    "%D = 3-period moving average of %K"
   ]
  },
  {
   "cell_type": "code",
   "execution_count": 5,
   "metadata": {},
   "outputs": [],
   "source": [
    "def create_stochastic_oscillator(stock_data):\n",
    "    stock_data['L14'] = stock_data['Low'].rolling(window=14).min()\n",
    "    stock_data['H14'] = stock_data['High'].rolling(window=14).max()\n",
    "    stock_data['%K'] = 100*((stock_data['Close'] - stock_data['L14']) / (stock_data['H14'] - stock_data['L14']))\n",
    "    stock_data['%D'] = stock_data['%K'].rolling(window=3).mean()\n",
    "    return stock_data"
   ]
  },
  {
   "cell_type": "code",
   "execution_count": 6,
   "metadata": {},
   "outputs": [],
   "source": [
    "def draw_stochastic_oscillator(stock_data):\n",
    "    fig, axes = plt.subplots(figsize=(20,10))   \n",
    "    stock_data[['%K','%D']].plot(ax=axes); axes.set_title('Oscillator')\n",
    "    plt.show()"
   ]
  },
  {
   "cell_type": "code",
   "execution_count": 7,
   "metadata": {},
   "outputs": [],
   "source": [
    " def calculate_long_short(stock_data):   \n",
    "    \n",
    "    # Create a column showing \"TRUE\" if sell entry signal is given and \"FALSE\" otherwise. \n",
    "    # A sell is initiated when the %K line crosses down through the %D line and the value of the oscillator is above 80 \n",
    "    stock_data['Sell Entry'] = ((stock_data['%K'] < stock_data['%D']) & (stock_data['%K'].shift(1) > stock_data['%D'].shift(1))) & (stock_data['%D'] > 80)\n",
    "\n",
    "    #Create a column in the DataFrame showing \"TRUE\" if sell exit signal is given and \"FALSE\" otherwise. \n",
    "    #A sell exit signal is given when the %K line crosses back up through the %D line \n",
    "    stock_data['Sell Exit'] = ((stock_data['%K'] > stock_data['%D']) & (stock_data['%K'].shift(1) < stock_data['%D'].shift(1))) \n",
    "\n",
    "    #create a placeholder column to populate with short positions (-1 for short and 0 for flat) using boolean values created above \n",
    "    stock_data['Short'] = np.nan \n",
    "    stock_data.loc[stock_data['Sell Entry'],'Short'] = -1 \n",
    "    stock_data.loc[stock_data['Sell Exit'],'Short'] = 0 \n",
    "\n",
    "\n",
    "    #Set initial position on day 1 to flat \n",
    "    stock_data['Short'][0] = 0 \n",
    "\n",
    "    #Forward fill the position column to represent the holding of positions through time \n",
    "    stock_data['Short'] = stock_data['Short'].fillna(method='pad') \n",
    "\n",
    "    #Create a column in stock_data showing \"TRUE\" if buy entry signal is given and \"FALSE\" otherwise. \n",
    "    #A buy is initiated when the %K line crosses up through the %D line and the value of the oscillator is below 20 \n",
    "    stock_data['Buy Entry'] = ((stock_data['%K'] > stock_data['%D']) & (stock_data['%K'].shift(1) < stock_data['%D'].shift(1))) & (stock_data['%D'] < 20) \n",
    "\n",
    "    #Create a column in stock_data showing \"TRUE\" if buy exit signal is given and \"FALSE\" otherwise. \n",
    "    #A buy exit signal is given when the %K line crosses back down through the %D line \n",
    "    stock_data['Buy Exit'] = ((stock_data['%K'] < stock_data['%D']) & (stock_data['%K'].shift(1) > stock_data['%D'].shift(1))) \n",
    "\n",
    "\n",
    "    #create a placeholder column to polulate with long positions (1 for long and 0 for flat) using boolean values created above \n",
    "    stock_data['Long'] = np.nan  \n",
    "    stock_data.loc[stock_data['Buy Entry'],'Long'] = 1  \n",
    "    stock_data.loc[stock_data['Buy Exit'],'Long'] = 0\n",
    "\n",
    "    #Set initial position on day 1 to flat \n",
    "    stock_data['Long'][0] = 0  \n",
    "\n",
    "    #Forward fill the position column to represent the holding of positions through time \n",
    "    stock_data['Long'] = stock_data['Long'].fillna(method='pad') \n",
    "\n",
    "    #Add Long and Short positions together to get final strategy position (1 for long, -1 for short and 0 for flat) \n",
    "    stock_data['Position'] = stock_data['Long'] + stock_data['Short']\n",
    "    \n",
    "    return stock_data"
   ]
  },
  {
   "cell_type": "code",
   "execution_count": 8,
   "metadata": {},
   "outputs": [],
   "source": [
    "def draw_long_short(stock_data):\n",
    "    stock_data['Position'].plot(figsize=(20,10))"
   ]
  },
  {
   "cell_type": "code",
   "execution_count": 9,
   "metadata": {},
   "outputs": [],
   "source": [
    "def draw_strategy_vs_market_return(stock_data):\n",
    "    #Set up a column holding the daily Tesla returns\n",
    "    stock_data['Market Returns'] = stock_data['Close'].pct_change()\n",
    "\n",
    "    #Create column for Strategy Returns by multiplying the daily Apple returns by the position that was held at close\n",
    "    #of business the previous day\n",
    "    stock_data['Strategy Returns'] = stock_data['Market Returns'] * stock_data['Position'].shift(1)\n",
    "\n",
    "    #Finally plot the strategy returns versus Apple returns\n",
    "    stock_data[['Strategy Returns','Market Returns']].cumsum().plot()"
   ]
  },
  {
   "cell_type": "code",
   "execution_count": 10,
   "metadata": {},
   "outputs": [],
   "source": [
    "def draw_buy_sell_entry(stock_data):\n",
    "    stock_data['Sell Entry'] = ((stock_data['%K'] < stock_data['%D']) & (stock_data['%K'].shift(1) > stock_data['%D'].shift(1))) & (stock_data['%D'] > 80)\n",
    "    stock_data['Buy Entry'] = ((stock_data['%K'] > stock_data['%D']) & (stock_data['%K'].shift(1) < stock_data['%D'].shift(1))) & (stock_data['%D'] < 20)\n",
    "    #Create empty \"Position\" column\n",
    "    stock_data['Position'] = np.nan \n",
    "    #Set position to -1 for sell signals\n",
    "    stock_data.loc[stock_data['Sell Entry'],'Position'] = -1 \n",
    "    #Set position to -1 for buy signals\n",
    "    stock_data.loc[stock_data['Buy Entry'],'Position'] = 1 \n",
    "    #Set starting position to flat (i.e. 0)\n",
    "    stock_data['Position'].iloc[0] = 0 \n",
    "    #Forward fill the position column to show holding of positions through time\n",
    "    stock_data['Position'] = stock_data['Position'].fillna(method='ffill')\n",
    "    #Set up a column holding the daily Apple returns\n",
    "    stock_data['Market Returns'] = stock_data['Close'].pct_change()\n",
    "    #Create column for Strategy Returns by multiplying the daily Apple returns by the position that was held at close\n",
    "    #of business the previous day\n",
    "    stock_data['Strategy Returns'] = stock_data['Market Returns'] * stock_data['Position'].shift(1)\n",
    "    #Finally plot the strategy returns versus Apple returns\n",
    "    stock_data[['Strategy Returns','Market Returns']].cumsum().plot(figsize=(20,10))"
   ]
  },
  {
   "cell_type": "code",
   "execution_count": 41,
   "metadata": {},
   "outputs": [],
   "source": [
    "def make_predictions(stock_data):\n",
    "    list_vol_avg = [stock_data.iloc[99].Volume]\n",
    "    vol_avg = int(np.mean(stock_data.iloc[:100].Volume))\n",
    "    for i in range(100, len(stock_data)):\n",
    "        q1 = np.percentile(stock_data.iloc[:i].Volume, 25)\n",
    "        q3 = np.percentile(stock_data.iloc[:i].Volume, 75)\n",
    "        iqr = (q3 - q1) * 1.5\n",
    "        if (stock_data.iloc[i].Volume < q1 - iqr) or (stock_data.iloc[i].Volume > q3 + iqr):\n",
    "            stock_data.set_value(i, 'Outlier', 1)\n",
    "            \n",
    "            \n",
    "        if (stock_data.iloc[i].Outlier == 1 and stock_data.iloc[i].Long == 1):\n",
    "            #stock_data.iloc[i].Prediction = 1\n",
    "            stock_data.set_value(i, 'Prediction', 1)\n",
    "            \n",
    "        if (stock_data.iloc[i].Outlier == 1 and stock_data.iloc[i].Short == -1):\n",
    "            #stock_data.iloc[i].Prediction = -1\n",
    "            stock_data.set_value(i, 'Prediction', -1)\n",
    "            \n",
    "        vol_avg = int(np.mean(stock_data.iloc[:i].Volume))\n",
    "        list_vol_avg.append(vol_avg)\n",
    "    return stock_data"
   ]
  },
  {
   "cell_type": "code",
   "execution_count": 42,
   "metadata": {},
   "outputs": [
    {
     "name": "stdout",
     "output_type": "stream",
     "text": [
      "<class 'pandas.core.frame.DataFrame'>\n",
      "Int64Index: 2324 entries, 0 to 2323\n",
      "Data columns (total 9 columns):\n",
      "Date          2324 non-null datetime64[ns]\n",
      "Open          2324 non-null float64\n",
      "High          2324 non-null float64\n",
      "Low           2324 non-null float64\n",
      "Close         2324 non-null float64\n",
      "Adj Close     2324 non-null float64\n",
      "Volume        2324 non-null int64\n",
      "Outlier       2324 non-null int64\n",
      "Prediction    2324 non-null int64\n",
      "dtypes: datetime64[ns](1), float64(5), int64(3)\n",
      "memory usage: 181.6 KB\n"
     ]
    }
   ],
   "source": [
    "def main():\n",
    "    stock_data = pd.read_csv(os.getcwd() + \"/Stock_Data/TSLA.csv\")\n",
    "    stock_data['Date'] = pd.to_datetime(stock_data['Date'])\n",
    "    stock_data = stock_data.sort_values(by='Date')\n",
    "    stock_data = stock_data.dropna()\n",
    "    stock_data['Outlier'] = 0\n",
    "    stock_data['Prediction'] = 0\n",
    "    stock_data.info()\n",
    "    stock_data.describe()\n",
    "    stock_data.head()\n",
    "    stock_data = create_stochastic_oscillator(stock_data)\n",
    "    stock_data = calculate_long_short(stock_data)\n",
    "    stock_data = make_predictions(stock_data)\n",
    "    return stock_data\n",
    "    \n",
    "stock_data = main()"
   ]
  },
  {
   "cell_type": "code",
   "execution_count": 43,
   "metadata": {},
   "outputs": [
    {
     "data": {
      "text/plain": [
       "0.0    1921\n",
       "1.0     403\n",
       "Name: Long, dtype: int64"
      ]
     },
     "execution_count": 43,
     "metadata": {},
     "output_type": "execute_result"
    }
   ],
   "source": [
    "stock_data.Long.value_counts()"
   ]
  },
  {
   "cell_type": "code",
   "execution_count": 44,
   "metadata": {},
   "outputs": [
    {
     "data": {
      "text/plain": [
       "0    2000\n",
       "1     324\n",
       "Name: Outlier, dtype: int64"
      ]
     },
     "execution_count": 44,
     "metadata": {},
     "output_type": "execute_result"
    }
   ],
   "source": [
    "stock_data.Outlier.value_counts()"
   ]
  },
  {
   "cell_type": "code",
   "execution_count": 45,
   "metadata": {},
   "outputs": [
    {
     "data": {
      "text/plain": [
       " 0    2214\n",
       "-1      70\n",
       " 1      40\n",
       "Name: Prediction, dtype: int64"
      ]
     },
     "execution_count": 45,
     "metadata": {},
     "output_type": "execute_result"
    }
   ],
   "source": [
    "stock_data.Prediction.value_counts()"
   ]
  },
  {
   "cell_type": "code",
   "execution_count": 46,
   "metadata": {},
   "outputs": [
    {
     "data": {
      "text/html": [
       "<div>\n",
       "<style scoped>\n",
       "    .dataframe tbody tr th:only-of-type {\n",
       "        vertical-align: middle;\n",
       "    }\n",
       "\n",
       "    .dataframe tbody tr th {\n",
       "        vertical-align: top;\n",
       "    }\n",
       "\n",
       "    .dataframe thead th {\n",
       "        text-align: right;\n",
       "    }\n",
       "</style>\n",
       "<table border=\"1\" class=\"dataframe\">\n",
       "  <thead>\n",
       "    <tr style=\"text-align: right;\">\n",
       "      <th></th>\n",
       "      <th>Date</th>\n",
       "      <th>Open</th>\n",
       "      <th>High</th>\n",
       "      <th>Low</th>\n",
       "      <th>Close</th>\n",
       "      <th>Adj Close</th>\n",
       "      <th>Volume</th>\n",
       "      <th>Outlier</th>\n",
       "      <th>Prediction</th>\n",
       "      <th>L14</th>\n",
       "      <th>H14</th>\n",
       "      <th>%K</th>\n",
       "      <th>%D</th>\n",
       "      <th>Sell Entry</th>\n",
       "      <th>Sell Exit</th>\n",
       "      <th>Short</th>\n",
       "      <th>Buy Entry</th>\n",
       "      <th>Buy Exit</th>\n",
       "      <th>Long</th>\n",
       "      <th>Position</th>\n",
       "    </tr>\n",
       "  </thead>\n",
       "  <tbody>\n",
       "    <tr>\n",
       "      <td>0</td>\n",
       "      <td>2010-06-29</td>\n",
       "      <td>19.000000</td>\n",
       "      <td>25.00</td>\n",
       "      <td>17.540001</td>\n",
       "      <td>23.889999</td>\n",
       "      <td>23.889999</td>\n",
       "      <td>18766300</td>\n",
       "      <td>0</td>\n",
       "      <td>0</td>\n",
       "      <td>NaN</td>\n",
       "      <td>NaN</td>\n",
       "      <td>NaN</td>\n",
       "      <td>NaN</td>\n",
       "      <td>False</td>\n",
       "      <td>False</td>\n",
       "      <td>0.0</td>\n",
       "      <td>False</td>\n",
       "      <td>False</td>\n",
       "      <td>0.0</td>\n",
       "      <td>0.0</td>\n",
       "    </tr>\n",
       "    <tr>\n",
       "      <td>1</td>\n",
       "      <td>2010-06-30</td>\n",
       "      <td>25.790001</td>\n",
       "      <td>30.42</td>\n",
       "      <td>23.299999</td>\n",
       "      <td>23.830000</td>\n",
       "      <td>23.830000</td>\n",
       "      <td>17187100</td>\n",
       "      <td>0</td>\n",
       "      <td>0</td>\n",
       "      <td>NaN</td>\n",
       "      <td>NaN</td>\n",
       "      <td>NaN</td>\n",
       "      <td>NaN</td>\n",
       "      <td>False</td>\n",
       "      <td>False</td>\n",
       "      <td>0.0</td>\n",
       "      <td>False</td>\n",
       "      <td>False</td>\n",
       "      <td>0.0</td>\n",
       "      <td>0.0</td>\n",
       "    </tr>\n",
       "    <tr>\n",
       "      <td>2</td>\n",
       "      <td>2010-07-01</td>\n",
       "      <td>25.000000</td>\n",
       "      <td>25.92</td>\n",
       "      <td>20.270000</td>\n",
       "      <td>21.959999</td>\n",
       "      <td>21.959999</td>\n",
       "      <td>8218800</td>\n",
       "      <td>0</td>\n",
       "      <td>0</td>\n",
       "      <td>NaN</td>\n",
       "      <td>NaN</td>\n",
       "      <td>NaN</td>\n",
       "      <td>NaN</td>\n",
       "      <td>False</td>\n",
       "      <td>False</td>\n",
       "      <td>0.0</td>\n",
       "      <td>False</td>\n",
       "      <td>False</td>\n",
       "      <td>0.0</td>\n",
       "      <td>0.0</td>\n",
       "    </tr>\n",
       "    <tr>\n",
       "      <td>3</td>\n",
       "      <td>2010-07-02</td>\n",
       "      <td>23.000000</td>\n",
       "      <td>23.10</td>\n",
       "      <td>18.709999</td>\n",
       "      <td>19.200001</td>\n",
       "      <td>19.200001</td>\n",
       "      <td>5139800</td>\n",
       "      <td>0</td>\n",
       "      <td>0</td>\n",
       "      <td>NaN</td>\n",
       "      <td>NaN</td>\n",
       "      <td>NaN</td>\n",
       "      <td>NaN</td>\n",
       "      <td>False</td>\n",
       "      <td>False</td>\n",
       "      <td>0.0</td>\n",
       "      <td>False</td>\n",
       "      <td>False</td>\n",
       "      <td>0.0</td>\n",
       "      <td>0.0</td>\n",
       "    </tr>\n",
       "    <tr>\n",
       "      <td>4</td>\n",
       "      <td>2010-07-06</td>\n",
       "      <td>20.000000</td>\n",
       "      <td>20.00</td>\n",
       "      <td>15.830000</td>\n",
       "      <td>16.110001</td>\n",
       "      <td>16.110001</td>\n",
       "      <td>6866900</td>\n",
       "      <td>0</td>\n",
       "      <td>0</td>\n",
       "      <td>NaN</td>\n",
       "      <td>NaN</td>\n",
       "      <td>NaN</td>\n",
       "      <td>NaN</td>\n",
       "      <td>False</td>\n",
       "      <td>False</td>\n",
       "      <td>0.0</td>\n",
       "      <td>False</td>\n",
       "      <td>False</td>\n",
       "      <td>0.0</td>\n",
       "      <td>0.0</td>\n",
       "    </tr>\n",
       "  </tbody>\n",
       "</table>\n",
       "</div>"
      ],
      "text/plain": [
       "        Date       Open   High        Low      Close  Adj Close    Volume  \\\n",
       "0 2010-06-29  19.000000  25.00  17.540001  23.889999  23.889999  18766300   \n",
       "1 2010-06-30  25.790001  30.42  23.299999  23.830000  23.830000  17187100   \n",
       "2 2010-07-01  25.000000  25.92  20.270000  21.959999  21.959999   8218800   \n",
       "3 2010-07-02  23.000000  23.10  18.709999  19.200001  19.200001   5139800   \n",
       "4 2010-07-06  20.000000  20.00  15.830000  16.110001  16.110001   6866900   \n",
       "\n",
       "   Outlier  Prediction  L14  H14  %K  %D  Sell Entry  Sell Exit  Short  \\\n",
       "0        0           0  NaN  NaN NaN NaN       False      False    0.0   \n",
       "1        0           0  NaN  NaN NaN NaN       False      False    0.0   \n",
       "2        0           0  NaN  NaN NaN NaN       False      False    0.0   \n",
       "3        0           0  NaN  NaN NaN NaN       False      False    0.0   \n",
       "4        0           0  NaN  NaN NaN NaN       False      False    0.0   \n",
       "\n",
       "   Buy Entry  Buy Exit  Long  Position  \n",
       "0      False     False   0.0       0.0  \n",
       "1      False     False   0.0       0.0  \n",
       "2      False     False   0.0       0.0  \n",
       "3      False     False   0.0       0.0  \n",
       "4      False     False   0.0       0.0  "
      ]
     },
     "execution_count": 46,
     "metadata": {},
     "output_type": "execute_result"
    }
   ],
   "source": [
    "stock_data.head()"
   ]
  },
  {
   "cell_type": "code",
   "execution_count": 914,
   "metadata": {},
   "outputs": [
    {
     "data": {
      "text/plain": [
       " 0.0    1850\n",
       "-1.0     474\n",
       "Name: Short, dtype: int64"
      ]
     },
     "execution_count": 914,
     "metadata": {},
     "output_type": "execute_result"
    }
   ],
   "source": [
    "stock_data.Short.value_counts()"
   ]
  },
  {
   "cell_type": "code",
   "execution_count": null,
   "metadata": {},
   "outputs": [],
   "source": [
    "\n",
    "    \n",
    "    "
   ]
  }
 ],
 "metadata": {
  "kernelspec": {
   "display_name": "Python 3",
   "language": "python",
   "name": "python3"
  },
  "language_info": {
   "codemirror_mode": {
    "name": "ipython",
    "version": 3
   },
   "file_extension": ".py",
   "mimetype": "text/x-python",
   "name": "python",
   "nbconvert_exporter": "python",
   "pygments_lexer": "ipython3",
   "version": "3.7.3"
  }
 },
 "nbformat": 4,
 "nbformat_minor": 1
}
